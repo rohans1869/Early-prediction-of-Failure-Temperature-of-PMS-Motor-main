{
 "cells": [
  {
   "cell_type": "markdown",
   "id": "15a9a452",
   "metadata": {},
   "source": [
    "# Problem Statement:\n",
    "Predicting temperature of the Permanent Magnet Synchronous pmsm(PMSM) given other\n",
    "sensor measurements during operation.."
   ]
  },
  {
   "cell_type": "code",
   "execution_count": 11,
   "id": "e3ec8b3c",
   "metadata": {},
   "outputs": [],
   "source": [
    "import pandas as pd\n",
    "import seaborn as sns\n",
    "import matplotlib.pyplot as plt\n",
    "import numpy as np\n",
    "\n",
    "from sklearn.preprocessing import MinMaxScaler\n",
    "\n",
    "from ipywidgets import interact"
   ]
  },
  {
   "cell_type": "markdown",
   "id": "8cf66592",
   "metadata": {},
   "source": [
    "### Import Data"
   ]
  },
  {
   "cell_type": "code",
   "execution_count": 3,
   "id": "b5f7419a",
   "metadata": {
    "scrolled": true
   },
   "outputs": [
    {
     "data": {
      "text/html": [
       "<div>\n",
       "<style scoped>\n",
       "    .dataframe tbody tr th:only-of-type {\n",
       "        vertical-align: middle;\n",
       "    }\n",
       "\n",
       "    .dataframe tbody tr th {\n",
       "        vertical-align: top;\n",
       "    }\n",
       "\n",
       "    .dataframe thead th {\n",
       "        text-align: right;\n",
       "    }\n",
       "</style>\n",
       "<table border=\"1\" class=\"dataframe\">\n",
       "  <thead>\n",
       "    <tr style=\"text-align: right;\">\n",
       "      <th></th>\n",
       "      <th>ambient</th>\n",
       "      <th>coolant</th>\n",
       "      <th>u_d</th>\n",
       "      <th>u_q</th>\n",
       "      <th>motor_speed</th>\n",
       "      <th>torque</th>\n",
       "      <th>i_d</th>\n",
       "      <th>i_q</th>\n",
       "      <th>pm</th>\n",
       "      <th>stator_yoke</th>\n",
       "      <th>stator_tooth</th>\n",
       "      <th>stator_winding</th>\n",
       "      <th>profile_id</th>\n",
       "    </tr>\n",
       "  </thead>\n",
       "  <tbody>\n",
       "    <tr>\n",
       "      <th>0</th>\n",
       "      <td>-0.752143</td>\n",
       "      <td>-1.118446</td>\n",
       "      <td>0.327935</td>\n",
       "      <td>-1.297858</td>\n",
       "      <td>-1.222428</td>\n",
       "      <td>-0.250182</td>\n",
       "      <td>1.029572</td>\n",
       "      <td>-0.245860</td>\n",
       "      <td>-2.522071</td>\n",
       "      <td>-1.831422</td>\n",
       "      <td>-2.066143</td>\n",
       "      <td>-2.018033</td>\n",
       "      <td>4</td>\n",
       "    </tr>\n",
       "    <tr>\n",
       "      <th>1</th>\n",
       "      <td>-0.771263</td>\n",
       "      <td>-1.117021</td>\n",
       "      <td>0.329665</td>\n",
       "      <td>-1.297686</td>\n",
       "      <td>-1.222429</td>\n",
       "      <td>-0.249133</td>\n",
       "      <td>1.029509</td>\n",
       "      <td>-0.245832</td>\n",
       "      <td>-2.522418</td>\n",
       "      <td>-1.830969</td>\n",
       "      <td>-2.064859</td>\n",
       "      <td>-2.017631</td>\n",
       "      <td>4</td>\n",
       "    </tr>\n",
       "    <tr>\n",
       "      <th>2</th>\n",
       "      <td>-0.782892</td>\n",
       "      <td>-1.116681</td>\n",
       "      <td>0.332771</td>\n",
       "      <td>-1.301822</td>\n",
       "      <td>-1.222428</td>\n",
       "      <td>-0.249431</td>\n",
       "      <td>1.029448</td>\n",
       "      <td>-0.245818</td>\n",
       "      <td>-2.522673</td>\n",
       "      <td>-1.830400</td>\n",
       "      <td>-2.064073</td>\n",
       "      <td>-2.017343</td>\n",
       "      <td>4</td>\n",
       "    </tr>\n",
       "    <tr>\n",
       "      <th>3</th>\n",
       "      <td>-0.780935</td>\n",
       "      <td>-1.116764</td>\n",
       "      <td>0.333700</td>\n",
       "      <td>-1.301852</td>\n",
       "      <td>-1.222430</td>\n",
       "      <td>-0.248636</td>\n",
       "      <td>1.032845</td>\n",
       "      <td>-0.246955</td>\n",
       "      <td>-2.521639</td>\n",
       "      <td>-1.830333</td>\n",
       "      <td>-2.063137</td>\n",
       "      <td>-2.017632</td>\n",
       "      <td>4</td>\n",
       "    </tr>\n",
       "    <tr>\n",
       "      <th>4</th>\n",
       "      <td>-0.774043</td>\n",
       "      <td>-1.116775</td>\n",
       "      <td>0.335206</td>\n",
       "      <td>-1.303118</td>\n",
       "      <td>-1.222429</td>\n",
       "      <td>-0.248701</td>\n",
       "      <td>1.031807</td>\n",
       "      <td>-0.246610</td>\n",
       "      <td>-2.521900</td>\n",
       "      <td>-1.830498</td>\n",
       "      <td>-2.062795</td>\n",
       "      <td>-2.018145</td>\n",
       "      <td>4</td>\n",
       "    </tr>\n",
       "    <tr>\n",
       "      <th>...</th>\n",
       "      <td>...</td>\n",
       "      <td>...</td>\n",
       "      <td>...</td>\n",
       "      <td>...</td>\n",
       "      <td>...</td>\n",
       "      <td>...</td>\n",
       "      <td>...</td>\n",
       "      <td>...</td>\n",
       "      <td>...</td>\n",
       "      <td>...</td>\n",
       "      <td>...</td>\n",
       "      <td>...</td>\n",
       "      <td>...</td>\n",
       "    </tr>\n",
       "    <tr>\n",
       "      <th>998065</th>\n",
       "      <td>-0.047497</td>\n",
       "      <td>0.341638</td>\n",
       "      <td>0.331475</td>\n",
       "      <td>-1.246114</td>\n",
       "      <td>-1.222428</td>\n",
       "      <td>-0.255640</td>\n",
       "      <td>1.029142</td>\n",
       "      <td>-0.245723</td>\n",
       "      <td>0.429853</td>\n",
       "      <td>1.018568</td>\n",
       "      <td>0.836084</td>\n",
       "      <td>0.494725</td>\n",
       "      <td>72</td>\n",
       "    </tr>\n",
       "    <tr>\n",
       "      <th>998066</th>\n",
       "      <td>-0.048839</td>\n",
       "      <td>0.320022</td>\n",
       "      <td>0.331701</td>\n",
       "      <td>-1.250655</td>\n",
       "      <td>-1.222437</td>\n",
       "      <td>-0.255640</td>\n",
       "      <td>1.029148</td>\n",
       "      <td>-0.245736</td>\n",
       "      <td>0.429751</td>\n",
       "      <td>1.013416</td>\n",
       "      <td>0.834438</td>\n",
       "      <td>0.494279</td>\n",
       "      <td>72</td>\n",
       "    </tr>\n",
       "    <tr>\n",
       "      <th>998067</th>\n",
       "      <td>-0.042350</td>\n",
       "      <td>0.307415</td>\n",
       "      <td>0.330946</td>\n",
       "      <td>-1.246852</td>\n",
       "      <td>-1.222430</td>\n",
       "      <td>-0.255640</td>\n",
       "      <td>1.029191</td>\n",
       "      <td>-0.245701</td>\n",
       "      <td>0.429439</td>\n",
       "      <td>1.002906</td>\n",
       "      <td>0.833936</td>\n",
       "      <td>0.492666</td>\n",
       "      <td>72</td>\n",
       "    </tr>\n",
       "    <tr>\n",
       "      <th>998068</th>\n",
       "      <td>-0.039433</td>\n",
       "      <td>0.302082</td>\n",
       "      <td>0.330987</td>\n",
       "      <td>-1.249505</td>\n",
       "      <td>-1.222432</td>\n",
       "      <td>-0.255640</td>\n",
       "      <td>1.029147</td>\n",
       "      <td>-0.245727</td>\n",
       "      <td>0.429558</td>\n",
       "      <td>0.999157</td>\n",
       "      <td>0.830504</td>\n",
       "      <td>0.490581</td>\n",
       "      <td>72</td>\n",
       "    </tr>\n",
       "    <tr>\n",
       "      <th>998069</th>\n",
       "      <td>-0.043803</td>\n",
       "      <td>0.312666</td>\n",
       "      <td>0.330830</td>\n",
       "      <td>-1.246590</td>\n",
       "      <td>-1.222431</td>\n",
       "      <td>-0.255640</td>\n",
       "      <td>1.029141</td>\n",
       "      <td>-0.245722</td>\n",
       "      <td>0.429166</td>\n",
       "      <td>0.987163</td>\n",
       "      <td>0.828046</td>\n",
       "      <td>0.489382</td>\n",
       "      <td>72</td>\n",
       "    </tr>\n",
       "  </tbody>\n",
       "</table>\n",
       "<p>998070 rows × 13 columns</p>\n",
       "</div>"
      ],
      "text/plain": [
       "         ambient   coolant       u_d       u_q  motor_speed    torque  \\\n",
       "0      -0.752143 -1.118446  0.327935 -1.297858    -1.222428 -0.250182   \n",
       "1      -0.771263 -1.117021  0.329665 -1.297686    -1.222429 -0.249133   \n",
       "2      -0.782892 -1.116681  0.332771 -1.301822    -1.222428 -0.249431   \n",
       "3      -0.780935 -1.116764  0.333700 -1.301852    -1.222430 -0.248636   \n",
       "4      -0.774043 -1.116775  0.335206 -1.303118    -1.222429 -0.248701   \n",
       "...          ...       ...       ...       ...          ...       ...   \n",
       "998065 -0.047497  0.341638  0.331475 -1.246114    -1.222428 -0.255640   \n",
       "998066 -0.048839  0.320022  0.331701 -1.250655    -1.222437 -0.255640   \n",
       "998067 -0.042350  0.307415  0.330946 -1.246852    -1.222430 -0.255640   \n",
       "998068 -0.039433  0.302082  0.330987 -1.249505    -1.222432 -0.255640   \n",
       "998069 -0.043803  0.312666  0.330830 -1.246590    -1.222431 -0.255640   \n",
       "\n",
       "             i_d       i_q        pm  stator_yoke  stator_tooth  \\\n",
       "0       1.029572 -0.245860 -2.522071    -1.831422     -2.066143   \n",
       "1       1.029509 -0.245832 -2.522418    -1.830969     -2.064859   \n",
       "2       1.029448 -0.245818 -2.522673    -1.830400     -2.064073   \n",
       "3       1.032845 -0.246955 -2.521639    -1.830333     -2.063137   \n",
       "4       1.031807 -0.246610 -2.521900    -1.830498     -2.062795   \n",
       "...          ...       ...       ...          ...           ...   \n",
       "998065  1.029142 -0.245723  0.429853     1.018568      0.836084   \n",
       "998066  1.029148 -0.245736  0.429751     1.013416      0.834438   \n",
       "998067  1.029191 -0.245701  0.429439     1.002906      0.833936   \n",
       "998068  1.029147 -0.245727  0.429558     0.999157      0.830504   \n",
       "998069  1.029141 -0.245722  0.429166     0.987163      0.828046   \n",
       "\n",
       "        stator_winding  profile_id  \n",
       "0            -2.018033           4  \n",
       "1            -2.017631           4  \n",
       "2            -2.017343           4  \n",
       "3            -2.017632           4  \n",
       "4            -2.018145           4  \n",
       "...                ...         ...  \n",
       "998065        0.494725          72  \n",
       "998066        0.494279          72  \n",
       "998067        0.492666          72  \n",
       "998068        0.490581          72  \n",
       "998069        0.489382          72  \n",
       "\n",
       "[998070 rows x 13 columns]"
      ]
     },
     "execution_count": 3,
     "metadata": {},
     "output_type": "execute_result"
    }
   ],
   "source": [
    "pmsm = pd.read_csv(\"/home/a/Desktop/lib/temperature_data.csv\")\n",
    "\n",
    "pmsm"
   ]
  },
  {
   "cell_type": "markdown",
   "id": "008f6c5b",
   "metadata": {},
   "source": [
    "## 3. Data Understanding"
   ]
  },
  {
   "cell_type": "code",
   "execution_count": 4,
   "id": "023ebb66",
   "metadata": {},
   "outputs": [
    {
     "data": {
      "text/plain": [
       "(998070, 13)"
      ]
     },
     "execution_count": 4,
     "metadata": {},
     "output_type": "execute_result"
    }
   ],
   "source": [
    "pmsm.shape"
   ]
  },
  {
   "cell_type": "code",
   "execution_count": 5,
   "id": "fb0ea9ac",
   "metadata": {},
   "outputs": [
    {
     "data": {
      "text/plain": [
       "ambient           0\n",
       "coolant           0\n",
       "u_d               0\n",
       "u_q               0\n",
       "motor_speed       0\n",
       "torque            0\n",
       "i_d               0\n",
       "i_q               0\n",
       "pm                0\n",
       "stator_yoke       0\n",
       "stator_tooth      0\n",
       "stator_winding    0\n",
       "profile_id        0\n",
       "dtype: int64"
      ]
     },
     "execution_count": 5,
     "metadata": {},
     "output_type": "execute_result"
    }
   ],
   "source": [
    "pmsm.isna().sum() #Fiding num values"
   ]
  },
  {
   "cell_type": "code",
   "execution_count": 6,
   "id": "dd25c5dc",
   "metadata": {},
   "outputs": [
    {
     "data": {
      "text/plain": [
       "ambient           float64\n",
       "coolant           float64\n",
       "u_d               float64\n",
       "u_q               float64\n",
       "motor_speed       float64\n",
       "torque            float64\n",
       "i_d               float64\n",
       "i_q               float64\n",
       "pm                float64\n",
       "stator_yoke       float64\n",
       "stator_tooth      float64\n",
       "stator_winding    float64\n",
       "profile_id          int64\n",
       "dtype: object"
      ]
     },
     "execution_count": 6,
     "metadata": {},
     "output_type": "execute_result"
    }
   ],
   "source": [
    "pmsm.dtypes #Looking into type of dataset"
   ]
  },
  {
   "cell_type": "code",
   "execution_count": 7,
   "id": "0b1d4c52",
   "metadata": {},
   "outputs": [
    {
     "data": {
      "text/plain": [
       "52"
      ]
     },
     "execution_count": 7,
     "metadata": {},
     "output_type": "execute_result"
    }
   ],
   "source": [
    "pmsm['profile_id'].nunique() #For profile ID"
   ]
  },
  {
   "cell_type": "code",
   "execution_count": 9,
   "id": "e738e1e4",
   "metadata": {
    "collapsed": true
   },
   "outputs": [
    {
     "data": {
      "text/plain": [
       "20    43970\n",
       "6     40387\n",
       "65    40093\n",
       "66    36475\n",
       "27    35360\n",
       "4     33423\n",
       "58    33381\n",
       "56    33122\n",
       "53    32441\n",
       "79    31153\n",
       "44    26340\n",
       "70    25676\n",
       "62    25599\n",
       "30    23862\n",
       "80    23823\n",
       "74    23760\n",
       "68    23330\n",
       "36    22608\n",
       "76    22187\n",
       "48    21982\n",
       "29    21357\n",
       "32    20959\n",
       "81    17671\n",
       "45    17141\n",
       "42    16919\n",
       "73    16785\n",
       "41    16699\n",
       "63    16667\n",
       "31    15586\n",
       "69    15349\n",
       "72    15300\n",
       "10    15255\n",
       "71    14655\n",
       "77    14621\n",
       "60    14542\n",
       "61    14515\n",
       "57    14402\n",
       "75    13471\n",
       "67    11134\n",
       "49    10815\n",
       "50    10809\n",
       "54    10806\n",
       "55    10806\n",
       "78     8444\n",
       "43     8442\n",
       "11     7886\n",
       "59     7474\n",
       "51     6260\n",
       "64     6249\n",
       "52     3725\n",
       "46     2179\n",
       "47     2175\n",
       "Name: profile_id, dtype: int64"
      ]
     },
     "execution_count": 9,
     "metadata": {},
     "output_type": "execute_result"
    }
   ],
   "source": [
    "pmsm['profile_id'].value_counts()"
   ]
  },
  {
   "cell_type": "code",
   "execution_count": 8,
   "id": "5b9e8dad",
   "metadata": {
    "collapsed": true
   },
   "outputs": [
    {
     "data": {
      "text/plain": [
       "<AxesSubplot:>"
      ]
     },
     "execution_count": 8,
     "metadata": {},
     "output_type": "execute_result"
    },
    {
     "data": {
      "image/png": "[encoded data removed]",
      "text/plain": [
       "<Figure size 1080x432 with 1 Axes>"
      ]
     },
     "metadata": {
      "needs_background": "light"
     },
     "output_type": "display_data"
    }
   ],
   "source": [
    "plt.figure(figsize=(15,6))\n",
    "pmsm['profile_id'].value_counts().sort_values().plot(kind = 'bar')"
   ]
  },
  {
   "cell_type": "markdown",
   "id": "5141c281",
   "metadata": {},
   "source": [
    "## Finding Outliers"
   ]
  },
  {
   "cell_type": "code",
   "execution_count": 67,
   "id": "a35cb76a",
   "metadata": {
    "scrolled": true
   },
   "outputs": [
    {
     "data": {
      "image/png": "[encoded data removed]",
      "text/plain": [
       "<Figure size 936x360 with 1 Axes>"
      ]
     },
     "metadata": {
      "needs_background": "light"
     },
     "output_type": "display_data"
    }
   ],
   "source": [
    "pmsm[pmsm.drop(labels=\"profile_id\", axis=1).columns[:6]].plot(kind='box', title='boxplot',figsize=(13,5)) \n",
    "plt.show()"
   ]
  },
  {
   "cell_type": "code",
   "execution_count": 68,
   "id": "a38e8e6f",
   "metadata": {
    "scrolled": true
   },
   "outputs": [
    {
     "data": {
      "image/png": "[encoded data removed]",
      "text/plain": [
       "<Figure size 936x360 with 1 Axes>"
      ]
     },
     "metadata": {
      "needs_background": "light"
     },
     "output_type": "display_data"
    }
   ],
   "source": [
    "pmsm[pmsm.drop(labels=\"profile_id\", axis=1).columns[6:]].plot(kind='box', title='boxplot',figsize=(13,5)) \n",
    "plt.show()"
   ]
  },
  {
   "cell_type": "code",
   "execution_count": 103,
   "id": "b834131d",
   "metadata": {
    "scrolled": true
   },
   "outputs": [
    {
     "data": {
      "application/vnd.jupyter.widget-view+json": {
       "model_id": "fcc403d273a34d35bc70d39b2c43cf18",
       "version_major": 2,
       "version_minor": 0
      },
      "text/plain": [
       "interactive(children=(Dropdown(description='feature', options=('ambient', 'coolant', 'u_d', 'u_q', 'motor_spee…"
      ]
     },
     "metadata": {},
     "output_type": "display_data"
    }
   ],
   "source": [
    "def plot_kde(feature):\n",
    "    pmsm[feature].plot(kind='kde', title=feature,figsize=(13,5)) \n",
    "    plt.show()\n",
    "\n",
    "widgets.interact(plot_kde, feature = ['ambient', 'coolant', 'u_d', 'u_q', 'motor_speed', 'torque', 'i_d',\n",
    "        'i_q', 'pm', 'stator_yoke', 'stator_tooth', 'stator_winding']);"
   ]
  },
  {
   "cell_type": "code",
   "execution_count": 26,
   "id": "feab1f9a",
   "metadata": {},
   "outputs": [
    {
     "data": {
      "text/html": [
       "<div>\n",
       "<style scoped>\n",
       "    .dataframe tbody tr th:only-of-type {\n",
       "        vertical-align: middle;\n",
       "    }\n",
       "\n",
       "    .dataframe tbody tr th {\n",
       "        vertical-align: top;\n",
       "    }\n",
       "\n",
       "    .dataframe thead th {\n",
       "        text-align: right;\n",
       "    }\n",
       "</style>\n",
       "<table border=\"1\" class=\"dataframe\">\n",
       "  <thead>\n",
       "    <tr style=\"text-align: right;\">\n",
       "      <th></th>\n",
       "      <th>count</th>\n",
       "      <th>mean</th>\n",
       "      <th>std</th>\n",
       "      <th>min</th>\n",
       "      <th>25%</th>\n",
       "      <th>50%</th>\n",
       "      <th>75%</th>\n",
       "      <th>max</th>\n",
       "    </tr>\n",
       "  </thead>\n",
       "  <tbody>\n",
       "    <tr>\n",
       "      <th>ambient</th>\n",
       "      <td>998070.0</td>\n",
       "      <td>-0.003905</td>\n",
       "      <td>0.993127</td>\n",
       "      <td>-8.573954</td>\n",
       "      <td>-0.599385</td>\n",
       "      <td>0.266157</td>\n",
       "      <td>0.686675</td>\n",
       "      <td>2.967117</td>\n",
       "    </tr>\n",
       "    <tr>\n",
       "      <th>coolant</th>\n",
       "      <td>998070.0</td>\n",
       "      <td>0.004723</td>\n",
       "      <td>1.002423</td>\n",
       "      <td>-1.429349</td>\n",
       "      <td>-1.037925</td>\n",
       "      <td>-0.177187</td>\n",
       "      <td>0.650709</td>\n",
       "      <td>2.649032</td>\n",
       "    </tr>\n",
       "    <tr>\n",
       "      <th>u_d</th>\n",
       "      <td>998070.0</td>\n",
       "      <td>0.004780</td>\n",
       "      <td>0.997878</td>\n",
       "      <td>-1.655373</td>\n",
       "      <td>-0.826359</td>\n",
       "      <td>0.267542</td>\n",
       "      <td>0.358491</td>\n",
       "      <td>2.274734</td>\n",
       "    </tr>\n",
       "    <tr>\n",
       "      <th>u_q</th>\n",
       "      <td>998070.0</td>\n",
       "      <td>-0.005690</td>\n",
       "      <td>1.002330</td>\n",
       "      <td>-1.861463</td>\n",
       "      <td>-0.927390</td>\n",
       "      <td>-0.099818</td>\n",
       "      <td>0.852625</td>\n",
       "      <td>1.793498</td>\n",
       "    </tr>\n",
       "    <tr>\n",
       "      <th>motor_speed</th>\n",
       "      <td>998070.0</td>\n",
       "      <td>-0.006336</td>\n",
       "      <td>1.001229</td>\n",
       "      <td>-1.371529</td>\n",
       "      <td>-0.951892</td>\n",
       "      <td>-0.140246</td>\n",
       "      <td>0.853584</td>\n",
       "      <td>2.024164</td>\n",
       "    </tr>\n",
       "    <tr>\n",
       "      <th>torque</th>\n",
       "      <td>998070.0</td>\n",
       "      <td>-0.003333</td>\n",
       "      <td>0.997907</td>\n",
       "      <td>-3.345953</td>\n",
       "      <td>-0.266917</td>\n",
       "      <td>-0.187246</td>\n",
       "      <td>0.547171</td>\n",
       "      <td>3.016971</td>\n",
       "    </tr>\n",
       "    <tr>\n",
       "      <th>i_d</th>\n",
       "      <td>998070.0</td>\n",
       "      <td>0.006043</td>\n",
       "      <td>0.998994</td>\n",
       "      <td>-3.245874</td>\n",
       "      <td>-0.756296</td>\n",
       "      <td>0.213935</td>\n",
       "      <td>1.013975</td>\n",
       "      <td>1.060937</td>\n",
       "    </tr>\n",
       "    <tr>\n",
       "      <th>i_q</th>\n",
       "      <td>998070.0</td>\n",
       "      <td>-0.003194</td>\n",
       "      <td>0.997912</td>\n",
       "      <td>-3.341639</td>\n",
       "      <td>-0.257269</td>\n",
       "      <td>-0.190076</td>\n",
       "      <td>0.499260</td>\n",
       "      <td>2.914185</td>\n",
       "    </tr>\n",
       "    <tr>\n",
       "      <th>pm</th>\n",
       "      <td>998070.0</td>\n",
       "      <td>-0.004396</td>\n",
       "      <td>0.995686</td>\n",
       "      <td>-2.631991</td>\n",
       "      <td>-0.672308</td>\n",
       "      <td>0.094367</td>\n",
       "      <td>0.680691</td>\n",
       "      <td>2.917456</td>\n",
       "    </tr>\n",
       "    <tr>\n",
       "      <th>stator_yoke</th>\n",
       "      <td>998070.0</td>\n",
       "      <td>0.000609</td>\n",
       "      <td>1.001049</td>\n",
       "      <td>-1.834688</td>\n",
       "      <td>-0.747265</td>\n",
       "      <td>-0.057226</td>\n",
       "      <td>0.697344</td>\n",
       "      <td>2.449158</td>\n",
       "    </tr>\n",
       "    <tr>\n",
       "      <th>stator_tooth</th>\n",
       "      <td>998070.0</td>\n",
       "      <td>-0.002208</td>\n",
       "      <td>0.999597</td>\n",
       "      <td>-2.066143</td>\n",
       "      <td>-0.761951</td>\n",
       "      <td>0.005085</td>\n",
       "      <td>0.772239</td>\n",
       "      <td>2.326668</td>\n",
       "    </tr>\n",
       "    <tr>\n",
       "      <th>stator_winding</th>\n",
       "      <td>998070.0</td>\n",
       "      <td>-0.003935</td>\n",
       "      <td>0.998343</td>\n",
       "      <td>-2.019973</td>\n",
       "      <td>-0.725622</td>\n",
       "      <td>0.006536</td>\n",
       "      <td>0.725660</td>\n",
       "      <td>2.653781</td>\n",
       "    </tr>\n",
       "    <tr>\n",
       "      <th>profile_id</th>\n",
       "      <td>998070.0</td>\n",
       "      <td>50.732001</td>\n",
       "      <td>22.073125</td>\n",
       "      <td>4.000000</td>\n",
       "      <td>32.000000</td>\n",
       "      <td>56.000000</td>\n",
       "      <td>68.000000</td>\n",
       "      <td>81.000000</td>\n",
       "    </tr>\n",
       "  </tbody>\n",
       "</table>\n",
       "</div>"
      ],
      "text/plain": [
       "                   count       mean        std       min        25%  \\\n",
       "ambient         998070.0  -0.003905   0.993127 -8.573954  -0.599385   \n",
       "coolant         998070.0   0.004723   1.002423 -1.429349  -1.037925   \n",
       "u_d             998070.0   0.004780   0.997878 -1.655373  -0.826359   \n",
       "u_q             998070.0  -0.005690   1.002330 -1.861463  -0.927390   \n",
       "motor_speed     998070.0  -0.006336   1.001229 -1.371529  -0.951892   \n",
       "torque          998070.0  -0.003333   0.997907 -3.345953  -0.266917   \n",
       "i_d             998070.0   0.006043   0.998994 -3.245874  -0.756296   \n",
       "i_q             998070.0  -0.003194   0.997912 -3.341639  -0.257269   \n",
       "pm              998070.0  -0.004396   0.995686 -2.631991  -0.672308   \n",
       "stator_yoke     998070.0   0.000609   1.001049 -1.834688  -0.747265   \n",
       "stator_tooth    998070.0  -0.002208   0.999597 -2.066143  -0.761951   \n",
       "stator_winding  998070.0  -0.003935   0.998343 -2.019973  -0.725622   \n",
       "profile_id      998070.0  50.732001  22.073125  4.000000  32.000000   \n",
       "\n",
       "                      50%        75%        max  \n",
       "ambient          0.266157   0.686675   2.967117  \n",
       "coolant         -0.177187   0.650709   2.649032  \n",
       "u_d              0.267542   0.358491   2.274734  \n",
       "u_q             -0.099818   0.852625   1.793498  \n",
       "motor_speed     -0.140246   0.853584   2.024164  \n",
       "torque          -0.187246   0.547171   3.016971  \n",
       "i_d              0.213935   1.013975   1.060937  \n",
       "i_q             -0.190076   0.499260   2.914185  \n",
       "pm               0.094367   0.680691   2.917456  \n",
       "stator_yoke     -0.057226   0.697344   2.449158  \n",
       "stator_tooth     0.005085   0.772239   2.326668  \n",
       "stator_winding   0.006536   0.725660   2.653781  \n",
       "profile_id      56.000000  68.000000  81.000000  "
      ]
     },
     "execution_count": 26,
     "metadata": {},
     "output_type": "execute_result"
    }
   ],
   "source": [
    "pmsm.describe().T"
   ]
  },
  {
   "cell_type": "markdown",
   "id": "2cd020e7",
   "metadata": {},
   "source": [
    "## Finding Co -relation"
   ]
  },
  {
   "cell_type": "code",
   "execution_count": 25,
   "id": "17e237bc",
   "metadata": {
    "scrolled": false
   },
   "outputs": [
    {
     "data": {
      "image/png": "[encoded data removed]",
      "text/plain": [
       "<Figure size 1080x432 with 2 Axes>"
      ]
     },
     "metadata": {
      "needs_background": "light"
     },
     "output_type": "display_data"
    }
   ],
   "source": [
    "pmsm_corr = pmsm.corr()\n",
    "\n",
    "plt.figure(figsize=(15,6))\n",
    "sns.heatmap(pmsm_corr, annot=True)\n",
    "plt.show()"
   ]
  },
  {
   "cell_type": "markdown",
   "id": "93648363",
   "metadata": {},
   "source": [
    "### Have high co-relation\n",
    "\n",
    "* cooland        and stator_yoke \n",
    "* stator_tooth   and stator_yoke\n",
    "* stator_tooth   and stator_winding\n",
    "* stator_winding and stator_yoke\n",
    "* u_d            and i_q\n",
    "* torque         and i_q\n",
    "\n",
    "\n",
    "\n"
   ]
  },
  {
   "cell_type": "code",
   "execution_count": null,
   "id": "0cd36fbe",
   "metadata": {},
   "outputs": [],
   "source": []
  },
  {
   "cell_type": "code",
   "execution_count": null,
   "id": "dc7269b1",
   "metadata": {},
   "outputs": [],
   "source": []
  },
  {
   "cell_type": "code",
   "execution_count": null,
   "id": "f7caf4f7",
   "metadata": {},
   "outputs": [],
   "source": []
  }
 ],
 "metadata": {
  "kernelspec": {
   "display_name": "Python 3 (ipykernel)",
   "language": "python",
   "name": "python3"
  },
  "language_info": {
   "codemirror_mode": {
    "name": "ipython",
    "version": 3
   },
   "file_extension": ".py",
   "mimetype": "text/x-python",
   "name": "python",
   "nbconvert_exporter": "python",
   "pygments_lexer": "ipython3",
   "version": "3.9.7"
  }
 },
 "nbformat": 4,
 "nbformat_minor": 5
}
