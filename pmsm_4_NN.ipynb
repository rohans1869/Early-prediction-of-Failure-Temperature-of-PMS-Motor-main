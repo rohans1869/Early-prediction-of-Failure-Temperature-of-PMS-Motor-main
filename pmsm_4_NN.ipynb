{
 "cells": [
  {
   "cell_type": "markdown",
   "id": "15a9a452",
   "metadata": {},
   "source": [
    "# Problem Statement:\n",
    "Predicting temperature of the Permanent Magnet Synchronous pmsm(PMSM) given other\n",
    "sensor measurements during operation.."
   ]
  },
  {
   "cell_type": "code",
   "execution_count": 1,
   "id": "e3ec8b3c",
   "metadata": {},
   "outputs": [],
   "source": [
    "import pandas as pd\n",
    "import seaborn as sns\n",
    "import matplotlib.pyplot as plt\n",
    "import numpy as np\n",
    "\n",
    "from sklearn.preprocessing import MinMaxScaler\n",
    "\n",
    "from sklearn.metrics import mean_absolute_error\n",
    "from sklearn.metrics import mean_squared_error"
   ]
  },
  {
   "cell_type": "markdown",
   "id": "8cf66592",
   "metadata": {},
   "source": [
    "### Import Data"
   ]
  },
  {
   "cell_type": "code",
   "execution_count": 2,
   "id": "b5f7419a",
   "metadata": {
    "scrolled": true
   },
   "outputs": [
    {
     "data": {
      "text/html": [
       "<div>\n",
       "<style scoped>\n",
       "    .dataframe tbody tr th:only-of-type {\n",
       "        vertical-align: middle;\n",
       "    }\n",
       "\n",
       "    .dataframe tbody tr th {\n",
       "        vertical-align: top;\n",
       "    }\n",
       "\n",
       "    .dataframe thead th {\n",
       "        text-align: right;\n",
       "    }\n",
       "</style>\n",
       "<table border=\"1\" class=\"dataframe\">\n",
       "  <thead>\n",
       "    <tr style=\"text-align: right;\">\n",
       "      <th></th>\n",
       "      <th>ambient</th>\n",
       "      <th>coolant</th>\n",
       "      <th>u_d</th>\n",
       "      <th>u_q</th>\n",
       "      <th>motor_speed</th>\n",
       "      <th>torque</th>\n",
       "      <th>i_d</th>\n",
       "      <th>i_q</th>\n",
       "      <th>pm</th>\n",
       "      <th>stator_yoke</th>\n",
       "      <th>stator_tooth</th>\n",
       "      <th>stator_winding</th>\n",
       "      <th>profile_id</th>\n",
       "    </tr>\n",
       "  </thead>\n",
       "  <tbody>\n",
       "    <tr>\n",
       "      <th>0</th>\n",
       "      <td>-0.752143</td>\n",
       "      <td>-1.118446</td>\n",
       "      <td>0.327935</td>\n",
       "      <td>-1.297858</td>\n",
       "      <td>-1.222428</td>\n",
       "      <td>-0.250182</td>\n",
       "      <td>1.029572</td>\n",
       "      <td>-0.245860</td>\n",
       "      <td>-2.522071</td>\n",
       "      <td>-1.831422</td>\n",
       "      <td>-2.066143</td>\n",
       "      <td>-2.018033</td>\n",
       "      <td>4</td>\n",
       "    </tr>\n",
       "    <tr>\n",
       "      <th>1</th>\n",
       "      <td>-0.771263</td>\n",
       "      <td>-1.117021</td>\n",
       "      <td>0.329665</td>\n",
       "      <td>-1.297686</td>\n",
       "      <td>-1.222429</td>\n",
       "      <td>-0.249133</td>\n",
       "      <td>1.029509</td>\n",
       "      <td>-0.245832</td>\n",
       "      <td>-2.522418</td>\n",
       "      <td>-1.830969</td>\n",
       "      <td>-2.064859</td>\n",
       "      <td>-2.017631</td>\n",
       "      <td>4</td>\n",
       "    </tr>\n",
       "    <tr>\n",
       "      <th>2</th>\n",
       "      <td>-0.782892</td>\n",
       "      <td>-1.116681</td>\n",
       "      <td>0.332771</td>\n",
       "      <td>-1.301822</td>\n",
       "      <td>-1.222428</td>\n",
       "      <td>-0.249431</td>\n",
       "      <td>1.029448</td>\n",
       "      <td>-0.245818</td>\n",
       "      <td>-2.522673</td>\n",
       "      <td>-1.830400</td>\n",
       "      <td>-2.064073</td>\n",
       "      <td>-2.017343</td>\n",
       "      <td>4</td>\n",
       "    </tr>\n",
       "    <tr>\n",
       "      <th>3</th>\n",
       "      <td>-0.780935</td>\n",
       "      <td>-1.116764</td>\n",
       "      <td>0.333700</td>\n",
       "      <td>-1.301852</td>\n",
       "      <td>-1.222430</td>\n",
       "      <td>-0.248636</td>\n",
       "      <td>1.032845</td>\n",
       "      <td>-0.246955</td>\n",
       "      <td>-2.521639</td>\n",
       "      <td>-1.830333</td>\n",
       "      <td>-2.063137</td>\n",
       "      <td>-2.017632</td>\n",
       "      <td>4</td>\n",
       "    </tr>\n",
       "    <tr>\n",
       "      <th>4</th>\n",
       "      <td>-0.774043</td>\n",
       "      <td>-1.116775</td>\n",
       "      <td>0.335206</td>\n",
       "      <td>-1.303118</td>\n",
       "      <td>-1.222429</td>\n",
       "      <td>-0.248701</td>\n",
       "      <td>1.031807</td>\n",
       "      <td>-0.246610</td>\n",
       "      <td>-2.521900</td>\n",
       "      <td>-1.830498</td>\n",
       "      <td>-2.062795</td>\n",
       "      <td>-2.018145</td>\n",
       "      <td>4</td>\n",
       "    </tr>\n",
       "    <tr>\n",
       "      <th>...</th>\n",
       "      <td>...</td>\n",
       "      <td>...</td>\n",
       "      <td>...</td>\n",
       "      <td>...</td>\n",
       "      <td>...</td>\n",
       "      <td>...</td>\n",
       "      <td>...</td>\n",
       "      <td>...</td>\n",
       "      <td>...</td>\n",
       "      <td>...</td>\n",
       "      <td>...</td>\n",
       "      <td>...</td>\n",
       "      <td>...</td>\n",
       "    </tr>\n",
       "    <tr>\n",
       "      <th>998065</th>\n",
       "      <td>-0.047497</td>\n",
       "      <td>0.341638</td>\n",
       "      <td>0.331475</td>\n",
       "      <td>-1.246114</td>\n",
       "      <td>-1.222428</td>\n",
       "      <td>-0.255640</td>\n",
       "      <td>1.029142</td>\n",
       "      <td>-0.245723</td>\n",
       "      <td>0.429853</td>\n",
       "      <td>1.018568</td>\n",
       "      <td>0.836084</td>\n",
       "      <td>0.494725</td>\n",
       "      <td>72</td>\n",
       "    </tr>\n",
       "    <tr>\n",
       "      <th>998066</th>\n",
       "      <td>-0.048839</td>\n",
       "      <td>0.320022</td>\n",
       "      <td>0.331701</td>\n",
       "      <td>-1.250655</td>\n",
       "      <td>-1.222437</td>\n",
       "      <td>-0.255640</td>\n",
       "      <td>1.029148</td>\n",
       "      <td>-0.245736</td>\n",
       "      <td>0.429751</td>\n",
       "      <td>1.013416</td>\n",
       "      <td>0.834438</td>\n",
       "      <td>0.494279</td>\n",
       "      <td>72</td>\n",
       "    </tr>\n",
       "    <tr>\n",
       "      <th>998067</th>\n",
       "      <td>-0.042350</td>\n",
       "      <td>0.307415</td>\n",
       "      <td>0.330946</td>\n",
       "      <td>-1.246852</td>\n",
       "      <td>-1.222430</td>\n",
       "      <td>-0.255640</td>\n",
       "      <td>1.029191</td>\n",
       "      <td>-0.245701</td>\n",
       "      <td>0.429439</td>\n",
       "      <td>1.002906</td>\n",
       "      <td>0.833936</td>\n",
       "      <td>0.492666</td>\n",
       "      <td>72</td>\n",
       "    </tr>\n",
       "    <tr>\n",
       "      <th>998068</th>\n",
       "      <td>-0.039433</td>\n",
       "      <td>0.302082</td>\n",
       "      <td>0.330987</td>\n",
       "      <td>-1.249505</td>\n",
       "      <td>-1.222432</td>\n",
       "      <td>-0.255640</td>\n",
       "      <td>1.029147</td>\n",
       "      <td>-0.245727</td>\n",
       "      <td>0.429558</td>\n",
       "      <td>0.999157</td>\n",
       "      <td>0.830504</td>\n",
       "      <td>0.490581</td>\n",
       "      <td>72</td>\n",
       "    </tr>\n",
       "    <tr>\n",
       "      <th>998069</th>\n",
       "      <td>-0.043803</td>\n",
       "      <td>0.312666</td>\n",
       "      <td>0.330830</td>\n",
       "      <td>-1.246590</td>\n",
       "      <td>-1.222431</td>\n",
       "      <td>-0.255640</td>\n",
       "      <td>1.029141</td>\n",
       "      <td>-0.245722</td>\n",
       "      <td>0.429166</td>\n",
       "      <td>0.987163</td>\n",
       "      <td>0.828046</td>\n",
       "      <td>0.489382</td>\n",
       "      <td>72</td>\n",
       "    </tr>\n",
       "  </tbody>\n",
       "</table>\n",
       "<p>998070 rows × 13 columns</p>\n",
       "</div>"
      ],
      "text/plain": [
       "         ambient   coolant       u_d       u_q  motor_speed    torque  \\\n",
       "0      -0.752143 -1.118446  0.327935 -1.297858    -1.222428 -0.250182   \n",
       "1      -0.771263 -1.117021  0.329665 -1.297686    -1.222429 -0.249133   \n",
       "2      -0.782892 -1.116681  0.332771 -1.301822    -1.222428 -0.249431   \n",
       "3      -0.780935 -1.116764  0.333700 -1.301852    -1.222430 -0.248636   \n",
       "4      -0.774043 -1.116775  0.335206 -1.303118    -1.222429 -0.248701   \n",
       "...          ...       ...       ...       ...          ...       ...   \n",
       "998065 -0.047497  0.341638  0.331475 -1.246114    -1.222428 -0.255640   \n",
       "998066 -0.048839  0.320022  0.331701 -1.250655    -1.222437 -0.255640   \n",
       "998067 -0.042350  0.307415  0.330946 -1.246852    -1.222430 -0.255640   \n",
       "998068 -0.039433  0.302082  0.330987 -1.249505    -1.222432 -0.255640   \n",
       "998069 -0.043803  0.312666  0.330830 -1.246590    -1.222431 -0.255640   \n",
       "\n",
       "             i_d       i_q        pm  stator_yoke  stator_tooth  \\\n",
       "0       1.029572 -0.245860 -2.522071    -1.831422     -2.066143   \n",
       "1       1.029509 -0.245832 -2.522418    -1.830969     -2.064859   \n",
       "2       1.029448 -0.245818 -2.522673    -1.830400     -2.064073   \n",
       "3       1.032845 -0.246955 -2.521639    -1.830333     -2.063137   \n",
       "4       1.031807 -0.246610 -2.521900    -1.830498     -2.062795   \n",
       "...          ...       ...       ...          ...           ...   \n",
       "998065  1.029142 -0.245723  0.429853     1.018568      0.836084   \n",
       "998066  1.029148 -0.245736  0.429751     1.013416      0.834438   \n",
       "998067  1.029191 -0.245701  0.429439     1.002906      0.833936   \n",
       "998068  1.029147 -0.245727  0.429558     0.999157      0.830504   \n",
       "998069  1.029141 -0.245722  0.429166     0.987163      0.828046   \n",
       "\n",
       "        stator_winding  profile_id  \n",
       "0            -2.018033           4  \n",
       "1            -2.017631           4  \n",
       "2            -2.017343           4  \n",
       "3            -2.017632           4  \n",
       "4            -2.018145           4  \n",
       "...                ...         ...  \n",
       "998065        0.494725          72  \n",
       "998066        0.494279          72  \n",
       "998067        0.492666          72  \n",
       "998068        0.490581          72  \n",
       "998069        0.489382          72  \n",
       "\n",
       "[998070 rows x 13 columns]"
      ]
     },
     "execution_count": 2,
     "metadata": {},
     "output_type": "execute_result"
    }
   ],
   "source": [
    "pmsm = pd.read_csv(\"/home/a/Desktop/lib/temperature_data.csv\")\n",
    "\n",
    "pmsm"
   ]
  },
  {
   "cell_type": "markdown",
   "id": "3eb63e7d",
   "metadata": {},
   "source": [
    "##### creating sample data to try various combinations"
   ]
  },
  {
   "cell_type": "code",
   "execution_count": 3,
   "id": "622a7d23",
   "metadata": {},
   "outputs": [],
   "source": [
    "pmsm_sampled = pmsm.sample(n=100000, random_state=12, )"
   ]
  },
  {
   "cell_type": "code",
   "execution_count": 4,
   "id": "7961c43c",
   "metadata": {},
   "outputs": [],
   "source": [
    "x_sample = pmsm_sampled.drop(labels=[\"pm\",\"profile_id\"], axis=1)\n",
    "y_sample = pmsm_sampled[\"pm\"]"
   ]
  },
  {
   "cell_type": "code",
   "execution_count": 5,
   "id": "ea9ae3d3",
   "metadata": {},
   "outputs": [],
   "source": [
    "from sklearn.model_selection import train_test_split\n",
    "\n",
    "x_train_sample, x_test_sample, y_train_sample, y_test_sample = train_test_split(x_sample, y_sample, test_size=.20, random_state=12)"
   ]
  },
  {
   "cell_type": "markdown",
   "id": "00b3ea0d",
   "metadata": {},
   "source": [
    "##### build sample model"
   ]
  },
  {
   "cell_type": "code",
   "execution_count": 6,
   "id": "ae4d0d47",
   "metadata": {},
   "outputs": [
    {
     "name": "stderr",
     "output_type": "stream",
     "text": [
      "2022-03-09 18:29:48.397222: W tensorflow/stream_executor/platform/default/dso_loader.cc:64] Could not load dynamic library 'libcudart.so.11.0'; dlerror: libcudart.so.11.0: cannot open shared object file: No such file or directory\n",
      "2022-03-09 18:29:48.397291: I tensorflow/stream_executor/cuda/cudart_stub.cc:29] Ignore above cudart dlerror if you do not have a GPU set up on your machine.\n"
     ]
    }
   ],
   "source": [
    "import tensorflow as tf\n",
    "from tensorflow import keras"
   ]
  },
  {
   "cell_type": "code",
   "execution_count": 19,
   "id": "da2a180c",
   "metadata": {},
   "outputs": [],
   "source": [
    "nn_model_sample = keras.models.Sequential([\n",
    "                        keras.layers.Dense(units=120, input_dim = 11, activation = \"relu\"),\n",
    "#                         keras.layers.Dropout(0.05),\n",
    "    \n",
    "                        keras.layers.Dense(units=100, activation = \"relu\"),\n",
    "#                         keras.layers.Dropout(0.05),\n",
    "    \n",
    "                        keras.layers.Dense(units=120, activation = \"relu\"),\n",
    "#                         keras.layers.Dropout(0.05),\n",
    "    \n",
    "    \n",
    "                        keras.layers.Dense(units=1, activation = \"linear\"),\n",
    "                        \n",
    "])\n",
    "\n",
    "nn_model_sample.compile(optimizer=\"adam\",\n",
    "                 loss = \"mse\",\n",
    "                 metrics=[\"mse\",\"mae\"])"
   ]
  },
  {
   "cell_type": "code",
   "execution_count": 21,
   "id": "9d9d5cda",
   "metadata": {},
   "outputs": [
    {
     "name": "stdout",
     "output_type": "stream",
     "text": [
      "Epoch 1/10\n",
      "1750/1750 [==============================] - 5s 3ms/step - loss: 0.0885 - mse: 0.0885 - mae: 0.2161 - val_loss: 0.0915 - val_mse: 0.0915 - val_mae: 0.2215\n",
      "Epoch 2/10\n",
      "1750/1750 [==============================] - 5s 3ms/step - loss: 0.0824 - mse: 0.0824 - mae: 0.2078 - val_loss: 0.0820 - val_mse: 0.0820 - val_mae: 0.2083\n",
      "Epoch 3/10\n",
      "1750/1750 [==============================] - 5s 3ms/step - loss: 0.0791 - mse: 0.0791 - mae: 0.2032 - val_loss: 0.0770 - val_mse: 0.0770 - val_mae: 0.1994\n",
      "Epoch 4/10\n",
      "1750/1750 [==============================] - 5s 3ms/step - loss: 0.0752 - mse: 0.0752 - mae: 0.1982 - val_loss: 0.0731 - val_mse: 0.0731 - val_mae: 0.1916\n",
      "Epoch 5/10\n",
      "1750/1750 [==============================] - 5s 3ms/step - loss: 0.0707 - mse: 0.0707 - mae: 0.1909 - val_loss: 0.0784 - val_mse: 0.0784 - val_mae: 0.2087\n",
      "Epoch 6/10\n",
      "1750/1750 [==============================] - 5s 3ms/step - loss: 0.0669 - mse: 0.0669 - mae: 0.1859 - val_loss: 0.0680 - val_mse: 0.0680 - val_mae: 0.1893\n",
      "Epoch 7/10\n",
      "1750/1750 [==============================] - 5s 3ms/step - loss: 0.0661 - mse: 0.0661 - mae: 0.1846 - val_loss: 0.0681 - val_mse: 0.0681 - val_mae: 0.1839\n",
      "Epoch 8/10\n",
      "1750/1750 [==============================] - 5s 3ms/step - loss: 0.0629 - mse: 0.0629 - mae: 0.1797 - val_loss: 0.0671 - val_mse: 0.0671 - val_mae: 0.1887\n",
      "Epoch 9/10\n",
      "1750/1750 [==============================] - 5s 3ms/step - loss: 0.0600 - mse: 0.0600 - mae: 0.1761 - val_loss: 0.0627 - val_mse: 0.0627 - val_mae: 0.1782\n",
      "Epoch 10/10\n",
      "1750/1750 [==============================] - 5s 3ms/step - loss: 0.0573 - mse: 0.0573 - mae: 0.1718 - val_loss: 0.0601 - val_mse: 0.0601 - val_mae: 0.1774\n"
     ]
    }
   ],
   "source": [
    "history_sample = nn_model_sample.fit(x = x_train_sample, y=y_train_sample, epochs=10,  validation_split=0.3)"
   ]
  },
  {
   "cell_type": "code",
   "execution_count": 23,
   "id": "ec2bfd4c",
   "metadata": {
    "scrolled": true
   },
   "outputs": [
    {
     "name": "stdout",
     "output_type": "stream",
     "text": [
      "625/625 [==============================] - 1s 2ms/step - loss: 0.0622 - mse: 0.0622 - mae: 0.1787\n"
     ]
    },
    {
     "data": {
      "text/plain": [
       "[0.06221034377813339, 0.06221034377813339, 0.17868542671203613]"
      ]
     },
     "execution_count": 23,
     "metadata": {},
     "output_type": "execute_result"
    }
   ],
   "source": [
    "nn_model_sample.evaluate(x_test_sample, y_test_sample)"
   ]
  },
  {
   "cell_type": "code",
   "execution_count": 25,
   "id": "7fe1b02b",
   "metadata": {},
   "outputs": [
    {
     "data": {
      "text/plain": [
       "dict_keys(['loss', 'mse', 'mae', 'val_loss', 'val_mse', 'val_mae'])"
      ]
     },
     "execution_count": 25,
     "metadata": {},
     "output_type": "execute_result"
    }
   ],
   "source": [
    "history_sample.history.keys()"
   ]
  },
  {
   "cell_type": "markdown",
   "id": "d31374c5",
   "metadata": {},
   "source": [
    "##### Plot of mse with eposch"
   ]
  },
  {
   "cell_type": "code",
   "execution_count": 28,
   "id": "a50b72c2",
   "metadata": {},
   "outputs": [
    {
     "data": {
      "image/png": "[encoded data removed]",
      "text/plain": [
       "<Figure size 432x288 with 1 Axes>"
      ]
     },
     "metadata": {
      "needs_background": "light"
     },
     "output_type": "display_data"
    }
   ],
   "source": [
    "plt.xlabel(\"epoch\")\n",
    "plt.ylabel(\"mse\")\n",
    "plt.plot(history_sample.epoch, history_sample.history[\"mse\"] )\n",
    "plt.plot(history_sample.epoch, history_sample.history[\"val_mse\"] )\n",
    "plt.legend([\"train\", \"test\"])\n",
    "plt.show()"
   ]
  },
  {
   "cell_type": "code",
   "execution_count": 29,
   "id": "cbb5c5a6",
   "metadata": {},
   "outputs": [],
   "source": [
    "y_test_pred_sample = nn_model_sample.predict(x_test_sample)"
   ]
  },
  {
   "cell_type": "code",
   "execution_count": 31,
   "id": "2be5ad2c",
   "metadata": {
    "scrolled": true
   },
   "outputs": [
    {
     "data": {
      "image/png": "[encoded data removed]",
      "text/plain": [
       "<Figure size 432x288 with 1 Axes>"
      ]
     },
     "metadata": {
      "needs_background": "light"
     },
     "output_type": "display_data"
    }
   ],
   "source": [
    "plt.scatter(y_test_sample, y_test_pred_sample)\n",
    "plt.show()"
   ]
  },
  {
   "cell_type": "code",
   "execution_count": null,
   "id": "7339ab89",
   "metadata": {},
   "outputs": [],
   "source": []
  },
  {
   "cell_type": "markdown",
   "id": "1b56a556",
   "metadata": {},
   "source": [
    "## Build model for whole data"
   ]
  },
  {
   "cell_type": "code",
   "execution_count": 37,
   "id": "cf782c5b",
   "metadata": {},
   "outputs": [],
   "source": [
    "x = pmsm.drop(labels=[\"pm\",\"profile_id\"], axis=1)\n",
    "y = pmsm[\"pm\"]"
   ]
  },
  {
   "cell_type": "code",
   "execution_count": 41,
   "id": "caf70030",
   "metadata": {},
   "outputs": [],
   "source": [
    "from sklearn.model_selection import train_test_split\n",
    "\n",
    "x_train, x_test, y_train , y_test = train_test_split(x, y, test_size=.20, random_state=12)"
   ]
  },
  {
   "cell_type": "markdown",
   "id": "e8688ce6",
   "metadata": {},
   "source": [
    "##### build full model"
   ]
  },
  {
   "cell_type": "code",
   "execution_count": 42,
   "id": "9407e0ed",
   "metadata": {},
   "outputs": [],
   "source": [
    "nn_model_full = keras.models.Sequential([\n",
    "                        keras.layers.Dense(units=120, input_dim = 11, activation = \"relu\"),\n",
    "#                         keras.layers.Dropout(0.05),\n",
    "    \n",
    "                        keras.layers.Dense(units=100, activation = \"relu\"),\n",
    "#                         keras.layers.Dropout(0.05),\n",
    "    \n",
    "                        keras.layers.Dense(units=120, activation = \"relu\"),\n",
    "#                         keras.layers.Dropout(0.05),\n",
    "    \n",
    "    \n",
    "                        keras.layers.Dense(units=1, activation = \"linear\"),\n",
    "                        \n",
    "])\n",
    "\n",
    "nn_model_full.compile(optimizer=\"adam\",\n",
    "                 loss = \"mse\",\n",
    "                 metrics=[\"mse\",\"mae\"])"
   ]
  },
  {
   "cell_type": "code",
   "execution_count": 47,
   "id": "2aaed084",
   "metadata": {},
   "outputs": [
    {
     "name": "stdout",
     "output_type": "stream",
     "text": [
      "Epoch 1/10\n",
      "17467/17467 [==============================] - 51s 3ms/step - loss: 0.0624 - mse: 0.0624 - mae: 0.1781 - val_loss: 0.0499 - val_mse: 0.0499 - val_mae: 0.1568\n",
      "Epoch 2/10\n",
      "17467/17467 [==============================] - 50s 3ms/step - loss: 0.0496 - mse: 0.0496 - mae: 0.1576 - val_loss: 0.0530 - val_mse: 0.0530 - val_mae: 0.1660\n",
      "Epoch 3/10\n",
      "17467/17467 [==============================] - 52s 3ms/step - loss: 0.0426 - mse: 0.0426 - mae: 0.1455 - val_loss: 0.0424 - val_mse: 0.0424 - val_mae: 0.1457\n",
      "Epoch 4/10\n",
      "17467/17467 [==============================] - 52s 3ms/step - loss: 0.0375 - mse: 0.0375 - mae: 0.1362 - val_loss: 0.0383 - val_mse: 0.0383 - val_mae: 0.1396\n",
      "Epoch 5/10\n",
      "17467/17467 [==============================] - 51s 3ms/step - loss: 0.0340 - mse: 0.0340 - mae: 0.1294 - val_loss: 0.0341 - val_mse: 0.0341 - val_mae: 0.1278\n",
      "Epoch 6/10\n",
      "17467/17467 [==============================] - 51s 3ms/step - loss: 0.0314 - mse: 0.0314 - mae: 0.1243 - val_loss: 0.0297 - val_mse: 0.0297 - val_mae: 0.1201\n",
      "Epoch 7/10\n",
      "17467/17467 [==============================] - 51s 3ms/step - loss: 0.0290 - mse: 0.0290 - mae: 0.1197 - val_loss: 0.0280 - val_mse: 0.0280 - val_mae: 0.1181\n",
      "Epoch 8/10\n",
      "17467/17467 [==============================] - 51s 3ms/step - loss: 0.0275 - mse: 0.0275 - mae: 0.1164 - val_loss: 0.0257 - val_mse: 0.0257 - val_mae: 0.1117\n",
      "Epoch 9/10\n",
      "17467/17467 [==============================] - 51s 3ms/step - loss: 0.0262 - mse: 0.0262 - mae: 0.1132 - val_loss: 0.0261 - val_mse: 0.0261 - val_mae: 0.1137\n",
      "Epoch 10/10\n",
      "17467/17467 [==============================] - 51s 3ms/step - loss: 0.0250 - mse: 0.0250 - mae: 0.1109 - val_loss: 0.0216 - val_mse: 0.0216 - val_mae: 0.1004\n"
     ]
    }
   ],
   "source": [
    "history_full = nn_model_full.fit(x = x_train, y=y_train, epochs=10,  validation_split=0.3)"
   ]
  },
  {
   "cell_type": "code",
   "execution_count": 48,
   "id": "c4a01dcc",
   "metadata": {
    "scrolled": true
   },
   "outputs": [
    {
     "name": "stdout",
     "output_type": "stream",
     "text": [
      "6238/6238 [==============================] - 11s 2ms/step - loss: 0.0215 - mse: 0.0215 - mae: 0.1003\n"
     ]
    },
    {
     "data": {
      "text/plain": [
       "[0.021516771987080574, 0.021516771987080574, 0.10029084980487823]"
      ]
     },
     "execution_count": 48,
     "metadata": {},
     "output_type": "execute_result"
    }
   ],
   "source": [
    "nn_model_full.evaluate(x_test, y_test)"
   ]
  },
  {
   "cell_type": "code",
   "execution_count": null,
   "id": "92e60ff7",
   "metadata": {},
   "outputs": [],
   "source": [
    "mean_absolute_error(x_train, )"
   ]
  },
  {
   "cell_type": "code",
   "execution_count": 51,
   "id": "b4bb1340",
   "metadata": {},
   "outputs": [
    {
     "data": {
      "text/plain": [
       "dict_keys(['loss', 'mse', 'mae', 'val_loss', 'val_mse', 'val_mae'])"
      ]
     },
     "execution_count": 51,
     "metadata": {},
     "output_type": "execute_result"
    }
   ],
   "source": [
    "history_full.history.keys()"
   ]
  },
  {
   "cell_type": "markdown",
   "id": "c9c9da14",
   "metadata": {},
   "source": [
    "##### Plot of mse with eposch"
   ]
  },
  {
   "cell_type": "code",
   "execution_count": 52,
   "id": "61180f1a",
   "metadata": {},
   "outputs": [
    {
     "data": {
      "image/png": "[encoded data removed]",
      "text/plain": [
       "<Figure size 432x288 with 1 Axes>"
      ]
     },
     "metadata": {
      "needs_background": "light"
     },
     "output_type": "display_data"
    }
   ],
   "source": [
    "plt.xlabel(\"epoch\")\n",
    "plt.ylabel(\"mse\")\n",
    "plt.plot(history_full.epoch, history_full.history[\"mse\"] )\n",
    "plt.plot(history_full.epoch, history_full.history[\"val_mse\"] )\n",
    "plt.legend([\"train\", \"test\"])\n",
    "plt.show()"
   ]
  },
  {
   "cell_type": "code",
   "execution_count": 59,
   "id": "47e5f0eb",
   "metadata": {},
   "outputs": [],
   "source": [
    "y_test_pred_full  = nn_model_full.predict(x_test)\n",
    "\n",
    "y_train_pred_full = nn_model_full.predict(x_train)\n"
   ]
  },
  {
   "cell_type": "code",
   "execution_count": 58,
   "id": "8b1328d5",
   "metadata": {
    "scrolled": true
   },
   "outputs": [
    {
     "data": {
      "image/png": "[encoded data removed]",
      "text/plain": [
       "<Figure size 432x288 with 1 Axes>"
      ]
     },
     "metadata": {
      "needs_background": "light"
     },
     "output_type": "display_data"
    }
   ],
   "source": [
    "\n",
    "plt.scatter(y_test, y_test_pred_full)\n",
    "plt.show()"
   ]
  },
  {
   "cell_type": "code",
   "execution_count": 60,
   "id": "c48d1bd0",
   "metadata": {},
   "outputs": [
    {
     "data": {
      "text/plain": [
       "0.020901114953653002"
      ]
     },
     "execution_count": 60,
     "metadata": {},
     "output_type": "execute_result"
    }
   ],
   "source": [
    "mean_squared_error(y_train, y_train_pred_full)"
   ]
  },
  {
   "cell_type": "code",
   "execution_count": 61,
   "id": "ea7af689",
   "metadata": {},
   "outputs": [
    {
     "data": {
      "text/plain": [
       "0.09922228114911585"
      ]
     },
     "execution_count": 61,
     "metadata": {},
     "output_type": "execute_result"
    }
   ],
   "source": [
    "mean_absolute_error(y_train, y_train_pred_full)"
   ]
  },
  {
   "cell_type": "code",
   "execution_count": null,
   "id": "4796589c",
   "metadata": {},
   "outputs": [],
   "source": []
  }
 ],
 "metadata": {
  "kernelspec": {
   "display_name": "Python 3 (ipykernel)",
   "language": "python",
   "name": "python3"
  },
  "language_info": {
   "codemirror_mode": {
    "name": "ipython",
    "version": 3
   },
   "file_extension": ".py",
   "mimetype": "text/x-python",
   "name": "python",
   "nbconvert_exporter": "python",
   "pygments_lexer": "ipython3",
   "version": "3.9.7"
  }
 },
 "nbformat": 4,
 "nbformat_minor": 5
}
