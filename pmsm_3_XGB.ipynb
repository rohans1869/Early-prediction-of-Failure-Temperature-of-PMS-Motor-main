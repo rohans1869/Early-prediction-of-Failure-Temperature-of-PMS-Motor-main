{
 "cells": [
  {
   "cell_type": "markdown",
   "id": "15a9a452",
   "metadata": {},
   "source": [
    "# Problem Statement:\n",
    "Predicting temperature of the Permanent Magnet Synchronous pmsm(PMSM) given other\n",
    "sensor measurements during operation.."
   ]
  },
  {
   "cell_type": "code",
   "execution_count": 5,
   "id": "e3ec8b3c",
   "metadata": {},
   "outputs": [],
   "source": [
    "import pandas as pd\n",
    "import seaborn as sns\n",
    "import matplotlib.pyplot as plt\n",
    "import numpy as np\n",
    "\n",
    "from sklearn.preprocessing import MinMaxScaler\n",
    "\n",
    "import xgboost as xg\n",
    "from sklearn.metrics import mean_squared_error as mse\n",
    "\n",
    "from sklearn.model_selection import GridSearchCV\n",
    "from sklearn.model_selection import train_test_split"
   ]
  },
  {
   "cell_type": "markdown",
   "id": "8cf66592",
   "metadata": {},
   "source": [
    "### Import Data"
   ]
  },
  {
   "cell_type": "code",
   "execution_count": 2,
   "id": "b5f7419a",
   "metadata": {
    "scrolled": true
   },
   "outputs": [
    {
     "data": {
      "text/html": [
       "<div>\n",
       "<style scoped>\n",
       "    .dataframe tbody tr th:only-of-type {\n",
       "        vertical-align: middle;\n",
       "    }\n",
       "\n",
       "    .dataframe tbody tr th {\n",
       "        vertical-align: top;\n",
       "    }\n",
       "\n",
       "    .dataframe thead th {\n",
       "        text-align: right;\n",
       "    }\n",
       "</style>\n",
       "<table border=\"1\" class=\"dataframe\">\n",
       "  <thead>\n",
       "    <tr style=\"text-align: right;\">\n",
       "      <th></th>\n",
       "      <th>ambient</th>\n",
       "      <th>coolant</th>\n",
       "      <th>u_d</th>\n",
       "      <th>u_q</th>\n",
       "      <th>motor_speed</th>\n",
       "      <th>torque</th>\n",
       "      <th>i_d</th>\n",
       "      <th>i_q</th>\n",
       "      <th>pm</th>\n",
       "      <th>stator_yoke</th>\n",
       "      <th>stator_tooth</th>\n",
       "      <th>stator_winding</th>\n",
       "      <th>profile_id</th>\n",
       "    </tr>\n",
       "  </thead>\n",
       "  <tbody>\n",
       "    <tr>\n",
       "      <th>0</th>\n",
       "      <td>-0.752143</td>\n",
       "      <td>-1.118446</td>\n",
       "      <td>0.327935</td>\n",
       "      <td>-1.297858</td>\n",
       "      <td>-1.222428</td>\n",
       "      <td>-0.250182</td>\n",
       "      <td>1.029572</td>\n",
       "      <td>-0.245860</td>\n",
       "      <td>-2.522071</td>\n",
       "      <td>-1.831422</td>\n",
       "      <td>-2.066143</td>\n",
       "      <td>-2.018033</td>\n",
       "      <td>4</td>\n",
       "    </tr>\n",
       "    <tr>\n",
       "      <th>1</th>\n",
       "      <td>-0.771263</td>\n",
       "      <td>-1.117021</td>\n",
       "      <td>0.329665</td>\n",
       "      <td>-1.297686</td>\n",
       "      <td>-1.222429</td>\n",
       "      <td>-0.249133</td>\n",
       "      <td>1.029509</td>\n",
       "      <td>-0.245832</td>\n",
       "      <td>-2.522418</td>\n",
       "      <td>-1.830969</td>\n",
       "      <td>-2.064859</td>\n",
       "      <td>-2.017631</td>\n",
       "      <td>4</td>\n",
       "    </tr>\n",
       "    <tr>\n",
       "      <th>2</th>\n",
       "      <td>-0.782892</td>\n",
       "      <td>-1.116681</td>\n",
       "      <td>0.332771</td>\n",
       "      <td>-1.301822</td>\n",
       "      <td>-1.222428</td>\n",
       "      <td>-0.249431</td>\n",
       "      <td>1.029448</td>\n",
       "      <td>-0.245818</td>\n",
       "      <td>-2.522673</td>\n",
       "      <td>-1.830400</td>\n",
       "      <td>-2.064073</td>\n",
       "      <td>-2.017343</td>\n",
       "      <td>4</td>\n",
       "    </tr>\n",
       "    <tr>\n",
       "      <th>3</th>\n",
       "      <td>-0.780935</td>\n",
       "      <td>-1.116764</td>\n",
       "      <td>0.333700</td>\n",
       "      <td>-1.301852</td>\n",
       "      <td>-1.222430</td>\n",
       "      <td>-0.248636</td>\n",
       "      <td>1.032845</td>\n",
       "      <td>-0.246955</td>\n",
       "      <td>-2.521639</td>\n",
       "      <td>-1.830333</td>\n",
       "      <td>-2.063137</td>\n",
       "      <td>-2.017632</td>\n",
       "      <td>4</td>\n",
       "    </tr>\n",
       "    <tr>\n",
       "      <th>4</th>\n",
       "      <td>-0.774043</td>\n",
       "      <td>-1.116775</td>\n",
       "      <td>0.335206</td>\n",
       "      <td>-1.303118</td>\n",
       "      <td>-1.222429</td>\n",
       "      <td>-0.248701</td>\n",
       "      <td>1.031807</td>\n",
       "      <td>-0.246610</td>\n",
       "      <td>-2.521900</td>\n",
       "      <td>-1.830498</td>\n",
       "      <td>-2.062795</td>\n",
       "      <td>-2.018145</td>\n",
       "      <td>4</td>\n",
       "    </tr>\n",
       "    <tr>\n",
       "      <th>...</th>\n",
       "      <td>...</td>\n",
       "      <td>...</td>\n",
       "      <td>...</td>\n",
       "      <td>...</td>\n",
       "      <td>...</td>\n",
       "      <td>...</td>\n",
       "      <td>...</td>\n",
       "      <td>...</td>\n",
       "      <td>...</td>\n",
       "      <td>...</td>\n",
       "      <td>...</td>\n",
       "      <td>...</td>\n",
       "      <td>...</td>\n",
       "    </tr>\n",
       "    <tr>\n",
       "      <th>998065</th>\n",
       "      <td>-0.047497</td>\n",
       "      <td>0.341638</td>\n",
       "      <td>0.331475</td>\n",
       "      <td>-1.246114</td>\n",
       "      <td>-1.222428</td>\n",
       "      <td>-0.255640</td>\n",
       "      <td>1.029142</td>\n",
       "      <td>-0.245723</td>\n",
       "      <td>0.429853</td>\n",
       "      <td>1.018568</td>\n",
       "      <td>0.836084</td>\n",
       "      <td>0.494725</td>\n",
       "      <td>72</td>\n",
       "    </tr>\n",
       "    <tr>\n",
       "      <th>998066</th>\n",
       "      <td>-0.048839</td>\n",
       "      <td>0.320022</td>\n",
       "      <td>0.331701</td>\n",
       "      <td>-1.250655</td>\n",
       "      <td>-1.222437</td>\n",
       "      <td>-0.255640</td>\n",
       "      <td>1.029148</td>\n",
       "      <td>-0.245736</td>\n",
       "      <td>0.429751</td>\n",
       "      <td>1.013416</td>\n",
       "      <td>0.834438</td>\n",
       "      <td>0.494279</td>\n",
       "      <td>72</td>\n",
       "    </tr>\n",
       "    <tr>\n",
       "      <th>998067</th>\n",
       "      <td>-0.042350</td>\n",
       "      <td>0.307415</td>\n",
       "      <td>0.330946</td>\n",
       "      <td>-1.246852</td>\n",
       "      <td>-1.222430</td>\n",
       "      <td>-0.255640</td>\n",
       "      <td>1.029191</td>\n",
       "      <td>-0.245701</td>\n",
       "      <td>0.429439</td>\n",
       "      <td>1.002906</td>\n",
       "      <td>0.833936</td>\n",
       "      <td>0.492666</td>\n",
       "      <td>72</td>\n",
       "    </tr>\n",
       "    <tr>\n",
       "      <th>998068</th>\n",
       "      <td>-0.039433</td>\n",
       "      <td>0.302082</td>\n",
       "      <td>0.330987</td>\n",
       "      <td>-1.249505</td>\n",
       "      <td>-1.222432</td>\n",
       "      <td>-0.255640</td>\n",
       "      <td>1.029147</td>\n",
       "      <td>-0.245727</td>\n",
       "      <td>0.429558</td>\n",
       "      <td>0.999157</td>\n",
       "      <td>0.830504</td>\n",
       "      <td>0.490581</td>\n",
       "      <td>72</td>\n",
       "    </tr>\n",
       "    <tr>\n",
       "      <th>998069</th>\n",
       "      <td>-0.043803</td>\n",
       "      <td>0.312666</td>\n",
       "      <td>0.330830</td>\n",
       "      <td>-1.246590</td>\n",
       "      <td>-1.222431</td>\n",
       "      <td>-0.255640</td>\n",
       "      <td>1.029141</td>\n",
       "      <td>-0.245722</td>\n",
       "      <td>0.429166</td>\n",
       "      <td>0.987163</td>\n",
       "      <td>0.828046</td>\n",
       "      <td>0.489382</td>\n",
       "      <td>72</td>\n",
       "    </tr>\n",
       "  </tbody>\n",
       "</table>\n",
       "<p>998070 rows × 13 columns</p>\n",
       "</div>"
      ],
      "text/plain": [
       "         ambient   coolant       u_d       u_q  motor_speed    torque  \\\n",
       "0      -0.752143 -1.118446  0.327935 -1.297858    -1.222428 -0.250182   \n",
       "1      -0.771263 -1.117021  0.329665 -1.297686    -1.222429 -0.249133   \n",
       "2      -0.782892 -1.116681  0.332771 -1.301822    -1.222428 -0.249431   \n",
       "3      -0.780935 -1.116764  0.333700 -1.301852    -1.222430 -0.248636   \n",
       "4      -0.774043 -1.116775  0.335206 -1.303118    -1.222429 -0.248701   \n",
       "...          ...       ...       ...       ...          ...       ...   \n",
       "998065 -0.047497  0.341638  0.331475 -1.246114    -1.222428 -0.255640   \n",
       "998066 -0.048839  0.320022  0.331701 -1.250655    -1.222437 -0.255640   \n",
       "998067 -0.042350  0.307415  0.330946 -1.246852    -1.222430 -0.255640   \n",
       "998068 -0.039433  0.302082  0.330987 -1.249505    -1.222432 -0.255640   \n",
       "998069 -0.043803  0.312666  0.330830 -1.246590    -1.222431 -0.255640   \n",
       "\n",
       "             i_d       i_q        pm  stator_yoke  stator_tooth  \\\n",
       "0       1.029572 -0.245860 -2.522071    -1.831422     -2.066143   \n",
       "1       1.029509 -0.245832 -2.522418    -1.830969     -2.064859   \n",
       "2       1.029448 -0.245818 -2.522673    -1.830400     -2.064073   \n",
       "3       1.032845 -0.246955 -2.521639    -1.830333     -2.063137   \n",
       "4       1.031807 -0.246610 -2.521900    -1.830498     -2.062795   \n",
       "...          ...       ...       ...          ...           ...   \n",
       "998065  1.029142 -0.245723  0.429853     1.018568      0.836084   \n",
       "998066  1.029148 -0.245736  0.429751     1.013416      0.834438   \n",
       "998067  1.029191 -0.245701  0.429439     1.002906      0.833936   \n",
       "998068  1.029147 -0.245727  0.429558     0.999157      0.830504   \n",
       "998069  1.029141 -0.245722  0.429166     0.987163      0.828046   \n",
       "\n",
       "        stator_winding  profile_id  \n",
       "0            -2.018033           4  \n",
       "1            -2.017631           4  \n",
       "2            -2.017343           4  \n",
       "3            -2.017632           4  \n",
       "4            -2.018145           4  \n",
       "...                ...         ...  \n",
       "998065        0.494725          72  \n",
       "998066        0.494279          72  \n",
       "998067        0.492666          72  \n",
       "998068        0.490581          72  \n",
       "998069        0.489382          72  \n",
       "\n",
       "[998070 rows x 13 columns]"
      ]
     },
     "execution_count": 2,
     "metadata": {},
     "output_type": "execute_result"
    }
   ],
   "source": [
    "pmsm = pd.read_csv(\"/home/a/Desktop/lib/temperature_data.csv\")\n",
    "\n",
    "pmsm\n"
   ]
  },
  {
   "cell_type": "markdown",
   "id": "2a3ac363",
   "metadata": {},
   "source": [
    "##### taking sample of 100000 to test with model"
   ]
  },
  {
   "cell_type": "code",
   "execution_count": 3,
   "id": "622a7d23",
   "metadata": {},
   "outputs": [],
   "source": [
    "pmsm_sampled = pmsm.sample(n=100000, random_state=12, )"
   ]
  },
  {
   "cell_type": "code",
   "execution_count": 4,
   "id": "7961c43c",
   "metadata": {},
   "outputs": [],
   "source": [
    "x_sample = pmsm_sampled.drop(labels=[\"pm\",\"profile_id\"], axis=1)\n",
    "y_sample = pmsm_sampled[\"pm\"]"
   ]
  },
  {
   "cell_type": "code",
   "execution_count": 5,
   "id": "ea9ae3d3",
   "metadata": {},
   "outputs": [],
   "source": [
    "\n",
    "\n",
    "x_train_sample, x_test_sample, y_train_sample, y_test_sample = train_test_split(x_sample, y_sample, test_size=.20, random_state=12)"
   ]
  },
  {
   "cell_type": "code",
   "execution_count": 6,
   "id": "ce7bc01a",
   "metadata": {},
   "outputs": [
    {
     "data": {
      "text/plain": [
       "XGBRegressor(base_score=0.5, booster='gbtree', colsample_bylevel=1,\n",
       "             colsample_bynode=1, colsample_bytree=1, enable_categorical=False,\n",
       "             gamma=0, gpu_id=-1, importance_type=None,\n",
       "             interaction_constraints='', learning_rate=0.300000012,\n",
       "             max_delta_step=0, max_depth=6, min_child_weight=1, missing=nan,\n",
       "             monotone_constraints='()', n_estimators=100, n_jobs=4,\n",
       "             num_parallel_tree=1, predictor='auto', random_state=12,\n",
       "             reg_alpha=0, reg_lambda=1, scale_pos_weight=1, subsample=1,\n",
       "             tree_method='exact', validate_parameters=1, verbosity=None)"
      ]
     },
     "execution_count": 6,
     "metadata": {},
     "output_type": "execute_result"
    }
   ],
   "source": [
    "xgb_model_sample = xg.XGBRegressor(random_state = 12)\n",
    "\n",
    "xgb_model_sample.fit(x_train_sample, y_train_sample)"
   ]
  },
  {
   "cell_type": "code",
   "execution_count": null,
   "id": "a0910cd6",
   "metadata": {},
   "outputs": [
    {
     "name": "stdout",
     "output_type": "stream",
     "text": [
      "Fitting 2 folds for each of 2 candidates, totalling 4 fits\n"
     ]
    }
   ],
   "source": [
    "grid_search = GridSearchCV(estimator=xgb_model_sample, \n",
    "                           param_grid={\"max_depth\":[15,16],\n",
    "#                                      \"subsample\":[0.5,1],\n",
    "#                                      \"learning_rate\" : [0.1,0.2,0.3]                \n",
    "                                                          }, \n",
    "                           n_jobs=-1, verbose=1, cv =2)\n",
    "\n",
    "\n",
    "\n",
    "\n",
    "grid_search.fit(x_train_sample,y_train_sample)"
   ]
  },
  {
   "cell_type": "code",
   "execution_count": 8,
   "id": "23811680",
   "metadata": {},
   "outputs": [
    {
     "data": {
      "text/plain": [
       "{'max_depth': 15}"
      ]
     },
     "execution_count": 8,
     "metadata": {},
     "output_type": "execute_result"
    }
   ],
   "source": [
    "grid_search.best_params_"
   ]
  },
  {
   "cell_type": "code",
   "execution_count": 9,
   "id": "71020f35",
   "metadata": {},
   "outputs": [
    {
     "data": {
      "text/plain": [
       "0.9802338661752561"
      ]
     },
     "execution_count": 9,
     "metadata": {},
     "output_type": "execute_result"
    }
   ],
   "source": [
    "grid_search.best_score_"
   ]
  },
  {
   "cell_type": "code",
   "execution_count": 27,
   "id": "e5949d1c",
   "metadata": {},
   "outputs": [
    {
     "data": {
      "text/plain": [
       "XGBRegressor(base_score=0.5, booster='gbtree', colsample_bylevel=1,\n",
       "             colsample_bynode=1, colsample_bytree=1, enable_categorical=False,\n",
       "             gamma=0, gpu_id=-1, importance_type=None,\n",
       "             interaction_constraints='', learning_rate=0.3, max_delta_step=0,\n",
       "             max_depth=15, min_child_weight=1, missing=nan,\n",
       "             monotone_constraints='()', n_estimators=100, n_jobs=-1,\n",
       "             num_parallel_tree=1, predictor='auto', random_state=12,\n",
       "             reg_alpha=0, reg_lambda=1, scale_pos_weight=1, subsample=1,\n",
       "             tree_method='exact', validate_parameters=1, verbosity=None)"
      ]
     },
     "execution_count": 27,
     "metadata": {},
     "output_type": "execute_result"
    }
   ],
   "source": [
    "xgb_model_sample2 = xg.XGBRegressor(max_depth = 15, learning_rate = 0.3, n_jobs = -1,\n",
    "                                    subsample = 1, random_state = 12)\n",
    "\n",
    "xgb_model_sample2.fit(x_train_sample, y_train_sample)"
   ]
  },
  {
   "cell_type": "code",
   "execution_count": 28,
   "id": "7d3bc81f",
   "metadata": {},
   "outputs": [
    {
     "data": {
      "text/plain": [
       "0.9882607956095762"
      ]
     },
     "execution_count": 28,
     "metadata": {},
     "output_type": "execute_result"
    }
   ],
   "source": [
    "xgb_model_sample2.score(x_test_sample, y_test_sample)"
   ]
  },
  {
   "cell_type": "markdown",
   "id": "1ebb7921",
   "metadata": {},
   "source": [
    "## Building full model"
   ]
  },
  {
   "cell_type": "markdown",
   "id": "e47cb440",
   "metadata": {},
   "source": [
    "##### we got good result in max_depth as 15 lets build full model on this"
   ]
  },
  {
   "cell_type": "code",
   "execution_count": 6,
   "id": "923dd445",
   "metadata": {},
   "outputs": [],
   "source": [
    "x = pmsm.drop(labels=[\"pm\",\"profile_id\"], axis=1)\n",
    "y = pmsm[\"pm\"]"
   ]
  },
  {
   "cell_type": "code",
   "execution_count": 7,
   "id": "4ab5e5e5",
   "metadata": {},
   "outputs": [],
   "source": [
    "x_train, x_test, y_train, y_test = train_test_split(x, y, test_size=.20, random_state=12)"
   ]
  },
  {
   "cell_type": "code",
   "execution_count": 15,
   "id": "bbbb2dc2",
   "metadata": {},
   "outputs": [
    {
     "name": "stdout",
     "output_type": "stream",
     "text": [
      "[21:54:05] WARNING: ../src/learner.cc:576: \n",
      "Parameters: { \"verbose\" } might not be used.\n",
      "\n",
      "  This could be a false alarm, with some parameters getting used by language bindings but\n",
      "  then being mistakenly passed down to XGBoost core, or some parameter actually being used\n",
      "  but getting flagged wrongly here. Please open an issue if you find any such cases.\n",
      "\n",
      "\n"
     ]
    },
    {
     "data": {
      "text/plain": [
       "XGBRegressor(base_score=0.5, booster='gbtree', colsample_bylevel=1,\n",
       "             colsample_bynode=1, colsample_bytree=1, enable_categorical=False,\n",
       "             gamma=0, gpu_id=-1, importance_type=None,\n",
       "             interaction_constraints='', learning_rate=0.3, max_delta_step=0,\n",
       "             max_depth=15, min_child_weight=1, missing=nan,\n",
       "             monotone_constraints='()', n_estimators=15, n_jobs=-1,\n",
       "             num_parallel_tree=1, predictor='auto', random_state=12,\n",
       "             reg_alpha=0, reg_lambda=1, scale_pos_weight=1, subsample=1,\n",
       "             tree_method='exact', validate_parameters=1, verbose=True,\n",
       "             verbosity=None)"
      ]
     },
     "execution_count": 15,
     "metadata": {},
     "output_type": "execute_result"
    }
   ],
   "source": [
    "xgb_model_full = xg.XGBRegressor(n_estimators = 15,max_depth = 15, learning_rate = 0.3, n_jobs = -1,\n",
    "                                    subsample = 1, random_state = 12, verbose = True)\n",
    "\n",
    "xgb_model_full.fit(x_train, y_train)"
   ]
  },
  {
   "cell_type": "code",
   "execution_count": null,
   "id": "6980d21b",
   "metadata": {},
   "outputs": [],
   "source": []
  },
  {
   "cell_type": "code",
   "execution_count": 16,
   "id": "f34ddca8",
   "metadata": {},
   "outputs": [
    {
     "data": {
      "text/plain": [
       "0.9982839422380287"
      ]
     },
     "execution_count": 16,
     "metadata": {},
     "output_type": "execute_result"
    }
   ],
   "source": [
    "xgb_model_full.score(x_train, y_train)"
   ]
  },
  {
   "cell_type": "code",
   "execution_count": 17,
   "id": "573a1f35",
   "metadata": {},
   "outputs": [
    {
     "data": {
      "text/plain": [
       "0.997213028676991"
      ]
     },
     "execution_count": 17,
     "metadata": {},
     "output_type": "execute_result"
    }
   ],
   "source": [
    "xgb_model_full.score(x_test, y_test)"
   ]
  },
  {
   "cell_type": "code",
   "execution_count": null,
   "id": "e3d3ba00",
   "metadata": {},
   "outputs": [],
   "source": []
  }
 ],
 "metadata": {
  "kernelspec": {
   "display_name": "Python 3 (ipykernel)",
   "language": "python",
   "name": "python3"
  },
  "language_info": {
   "codemirror_mode": {
    "name": "ipython",
    "version": 3
   },
   "file_extension": ".py",
   "mimetype": "text/x-python",
   "name": "python",
   "nbconvert_exporter": "python",
   "pygments_lexer": "ipython3",
   "version": "3.9.7"
  }
 },
 "nbformat": 4,
 "nbformat_minor": 5
}
